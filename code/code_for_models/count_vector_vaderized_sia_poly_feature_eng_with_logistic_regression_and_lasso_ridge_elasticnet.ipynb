{
 "cells": [
  {
   "cell_type": "markdown",
   "metadata": {},
   "source": [
    "## CountVector, SIA Vaderization, and PolyFeature Engineering with Logistic Regression and then Regularize with Lasso, Ridge, and Elasticnet\n"
   ]
  },
  {
   "cell_type": "code",
   "execution_count": 1,
   "metadata": {},
   "outputs": [],
   "source": [
    "# do the imports\n",
    "\n",
    "import pandas as pd\n",
    "import numpy as np\n",
    "import matplotlib.pyplot as plt\n",
    "import seaborn as sns\n",
    "\n",
    "from vaderSentiment.vaderSentiment import SentimentIntensityAnalyzer\n",
    "\n",
    "from nltk.corpus import stopwords\n",
    "nltk_stops = stopwords.words('english')\n",
    "\n",
    "from sklearn.feature_extraction.text import CountVectorizer, TfidfVectorizer\n",
    "from sklearn.model_selection import cross_val_score, train_test_split, GridSearchCV\n",
    "from sklearn.preprocessing import PolynomialFeatures\n",
    "\n",
    "from sklearn.pipeline import Pipeline\n",
    "\n",
    "from sklearn.naive_bayes import MultinomialNB, GaussianNB\n",
    "from sklearn.linear_model import LogisticRegression\n",
    "\n",
    "from sklearn.ensemble import ExtraTreesClassifier\n",
    "\n",
    "\n",
    "import warnings\n",
    "warnings.filterwarnings('ignore')\n",
    "\n",
    "pd.set_option('display.max_rows', 5000)\n",
    "pd.set_option('display.max_columns', 500)\n",
    "pd.set_option('display.width', 1000)"
   ]
  },
  {
   "cell_type": "markdown",
   "metadata": {},
   "source": [
    "##### Vaderized Dataframe has the original 10,000 posts with the SIA info bolted on"
   ]
  },
  {
   "cell_type": "code",
   "execution_count": 2,
   "metadata": {},
   "outputs": [
    {
     "data": {
      "text/html": [
       "<div>\n",
       "<style scoped>\n",
       "    .dataframe tbody tr th:only-of-type {\n",
       "        vertical-align: middle;\n",
       "    }\n",
       "\n",
       "    .dataframe tbody tr th {\n",
       "        vertical-align: top;\n",
       "    }\n",
       "\n",
       "    .dataframe thead th {\n",
       "        text-align: right;\n",
       "    }\n",
       "</style>\n",
       "<table border=\"1\" class=\"dataframe\">\n",
       "  <thead>\n",
       "    <tr style=\"text-align: right;\">\n",
       "      <th></th>\n",
       "      <th>neg</th>\n",
       "      <th>neu</th>\n",
       "      <th>pos</th>\n",
       "      <th>compound</th>\n",
       "      <th>title</th>\n",
       "      <th>is_onion</th>\n",
       "    </tr>\n",
       "  </thead>\n",
       "  <tbody>\n",
       "    <tr>\n",
       "      <td>0</td>\n",
       "      <td>0.201</td>\n",
       "      <td>0.799</td>\n",
       "      <td>0.0</td>\n",
       "      <td>-0.743</td>\n",
       "      <td>'Buddhist aliens' have visited 'Thailand’s Are...</td>\n",
       "      <td>1</td>\n",
       "    </tr>\n",
       "  </tbody>\n",
       "</table>\n",
       "</div>"
      ],
      "text/plain": [
       "     neg    neu  pos  compound                                              title  is_onion\n",
       "0  0.201  0.799  0.0    -0.743  'Buddhist aliens' have visited 'Thailand’s Are...         1"
      ]
     },
     "execution_count": 2,
     "metadata": {},
     "output_type": "execute_result"
    }
   ],
   "source": [
    "df_vaderized = pd.read_csv('../../datasets/df_vaderized.csv')\n",
    "\n",
    "df_vaderized = df_vaderized.drop(['Unnamed: 0'], axis= 1)\n",
    "df_vaderized.head(1)"
   ]
  },
  {
   "cell_type": "markdown",
   "metadata": {},
   "source": [
    "##### Word vectorize with CountVectorize and bolt onto split dataframes with an index merge because of train test split stratify"
   ]
  },
  {
   "cell_type": "code",
   "execution_count": 3,
   "metadata": {},
   "outputs": [],
   "source": [
    "X = df_vaderized['title']\n",
    "y = df_vaderized['is_onion']\n",
    "\n",
    "X_train, X_test, y_train, y_test = train_test_split(X, y, random_state= 42, stratify= y)\n",
    "\n",
    "\n",
    "cvec = CountVectorizer(max_features= 60_000,\n",
    "                       ngram_range= (1, 4),\n",
    "                       stop_words= None)"
   ]
  },
  {
   "cell_type": "code",
   "execution_count": 4,
   "metadata": {},
   "outputs": [],
   "source": [
    "X_train_cvec = cvec.fit_transform(X_train)\n",
    "X_test_cvec = cvec.transform(X_test)"
   ]
  },
  {
   "cell_type": "code",
   "execution_count": 5,
   "metadata": {},
   "outputs": [],
   "source": [
    "df_X_train_cvec = pd.DataFrame(X_train_cvec.todense(), columns= cvec.get_feature_names())\n",
    "df_X_test_cvec = pd.DataFrame(X_test_cvec.todense(), columns= cvec.get_feature_names())"
   ]
  },
  {
   "cell_type": "code",
   "execution_count": 6,
   "metadata": {},
   "outputs": [],
   "source": [
    "df_X_train = X_train.to_frame().reset_index()\n",
    "\n",
    "df_X_train_combo = pd.concat([df_X_train, df_X_train_cvec], axis= 1)"
   ]
  },
  {
   "cell_type": "code",
   "execution_count": 7,
   "metadata": {},
   "outputs": [],
   "source": [
    "df_vaderized = df_vaderized.reset_index()"
   ]
  },
  {
   "cell_type": "code",
   "execution_count": 8,
   "metadata": {},
   "outputs": [],
   "source": [
    "df_X_train_combo_with_vader = pd.merge(left= df_X_train_combo,\n",
    "                                 right= df_vaderized,\n",
    "                                 how= 'left',\n",
    "                                 left_on= 'index',\n",
    "                                 right_on= 'index')"
   ]
  },
  {
   "cell_type": "code",
   "execution_count": 9,
   "metadata": {},
   "outputs": [],
   "source": [
    "df_X_train_combo_with_vader = df_X_train_combo_with_vader.drop(['index', 'title_x', 'title_y', 'is_onion'],\n",
    "                                                              axis= 1)"
   ]
  },
  {
   "cell_type": "code",
   "execution_count": 10,
   "metadata": {},
   "outputs": [],
   "source": [
    "df_X_test = X_test.to_frame().reset_index()\n",
    "\n",
    "df_X_test_combo = pd.concat([df_X_test, df_X_test_cvec], axis= 1)"
   ]
  },
  {
   "cell_type": "code",
   "execution_count": 11,
   "metadata": {},
   "outputs": [],
   "source": [
    "df_X_test_combo_with_vader = pd.merge(left= df_X_test_combo,\n",
    "                                      right= df_vaderized,\n",
    "                                      how= 'left',\n",
    "                                      left_on= 'index',\n",
    "                                      right_on= 'index')"
   ]
  },
  {
   "cell_type": "code",
   "execution_count": 12,
   "metadata": {},
   "outputs": [],
   "source": [
    "df_X_test_combo_with_vader = df_X_test_combo_with_vader.drop(['index', 'title_x', 'title_y', 'is_onion'],\n",
    "                                                            axis= 1)"
   ]
  },
  {
   "cell_type": "markdown",
   "metadata": {},
   "source": [
    "### Feature Eng'g time,  pick the top 25 words from CountVectorizor and combine with Vader,  then PolyFeature all"
   ]
  },
  {
   "cell_type": "code",
   "execution_count": 15,
   "metadata": {
    "collapsed": true
   },
   "outputs": [
    {
     "data": {
      "text/html": [
       "<div>\n",
       "<style scoped>\n",
       "    .dataframe tbody tr th:only-of-type {\n",
       "        vertical-align: middle;\n",
       "    }\n",
       "\n",
       "    .dataframe tbody tr th {\n",
       "        vertical-align: top;\n",
       "    }\n",
       "\n",
       "    .dataframe thead th {\n",
       "        text-align: right;\n",
       "    }\n",
       "</style>\n",
       "<table border=\"1\" class=\"dataframe\">\n",
       "  <thead>\n",
       "    <tr style=\"text-align: right;\">\n",
       "      <th></th>\n",
       "      <th>0</th>\n",
       "    </tr>\n",
       "  </thead>\n",
       "  <tbody>\n",
       "    <tr>\n",
       "      <td>says</td>\n",
       "      <td>0.007713</td>\n",
       "    </tr>\n",
       "    <tr>\n",
       "      <td>of</td>\n",
       "      <td>0.006158</td>\n",
       "    </tr>\n",
       "    <tr>\n",
       "      <td>arrested</td>\n",
       "      <td>0.005633</td>\n",
       "    </tr>\n",
       "    <tr>\n",
       "      <td>police</td>\n",
       "      <td>0.004516</td>\n",
       "    </tr>\n",
       "    <tr>\n",
       "      <td>nation</td>\n",
       "      <td>0.004340</td>\n",
       "    </tr>\n",
       "    <tr>\n",
       "      <td>woman</td>\n",
       "      <td>0.003690</td>\n",
       "    </tr>\n",
       "    <tr>\n",
       "      <td>know</td>\n",
       "      <td>0.003394</td>\n",
       "    </tr>\n",
       "    <tr>\n",
       "      <td>all</td>\n",
       "      <td>0.003133</td>\n",
       "    </tr>\n",
       "    <tr>\n",
       "      <td>said</td>\n",
       "      <td>0.003049</td>\n",
       "    </tr>\n",
       "    <tr>\n",
       "      <td>what</td>\n",
       "      <td>0.002980</td>\n",
       "    </tr>\n",
       "    <tr>\n",
       "      <td>report</td>\n",
       "      <td>0.002832</td>\n",
       "    </tr>\n",
       "    <tr>\n",
       "      <td>just</td>\n",
       "      <td>0.002647</td>\n",
       "    </tr>\n",
       "    <tr>\n",
       "      <td>sues</td>\n",
       "      <td>0.002586</td>\n",
       "    </tr>\n",
       "    <tr>\n",
       "      <td>new</td>\n",
       "      <td>0.002523</td>\n",
       "    </tr>\n",
       "    <tr>\n",
       "      <td>2018</td>\n",
       "      <td>0.002314</td>\n",
       "    </tr>\n",
       "    <tr>\n",
       "      <td>the onion</td>\n",
       "      <td>0.002282</td>\n",
       "    </tr>\n",
       "    <tr>\n",
       "      <td>ukraine</td>\n",
       "      <td>0.002261</td>\n",
       "    </tr>\n",
       "    <tr>\n",
       "      <td>china</td>\n",
       "      <td>0.002187</td>\n",
       "    </tr>\n",
       "    <tr>\n",
       "      <td>after</td>\n",
       "      <td>0.002185</td>\n",
       "    </tr>\n",
       "    <tr>\n",
       "      <td>fucking</td>\n",
       "      <td>0.002179</td>\n",
       "    </tr>\n",
       "    <tr>\n",
       "      <td>then</td>\n",
       "      <td>0.002128</td>\n",
       "    </tr>\n",
       "    <tr>\n",
       "      <td>and</td>\n",
       "      <td>0.002114</td>\n",
       "    </tr>\n",
       "    <tr>\n",
       "      <td>adopted</td>\n",
       "      <td>0.002010</td>\n",
       "    </tr>\n",
       "    <tr>\n",
       "      <td>to</td>\n",
       "      <td>0.001972</td>\n",
       "    </tr>\n",
       "    <tr>\n",
       "      <td>accused</td>\n",
       "      <td>0.001844</td>\n",
       "    </tr>\n",
       "  </tbody>\n",
       "</table>\n",
       "</div>"
      ],
      "text/plain": [
       "                  0\n",
       "says       0.007713\n",
       "of         0.006158\n",
       "arrested   0.005633\n",
       "police     0.004516\n",
       "nation     0.004340\n",
       "woman      0.003690\n",
       "know       0.003394\n",
       "all        0.003133\n",
       "said       0.003049\n",
       "what       0.002980\n",
       "report     0.002832\n",
       "just       0.002647\n",
       "sues       0.002586\n",
       "new        0.002523\n",
       "2018       0.002314\n",
       "the onion  0.002282\n",
       "ukraine    0.002261\n",
       "china      0.002187\n",
       "after      0.002185\n",
       "fucking    0.002179\n",
       "then       0.002128\n",
       "and        0.002114\n",
       "adopted    0.002010\n",
       "to         0.001972\n",
       "accused    0.001844"
      ]
     },
     "execution_count": 15,
     "metadata": {},
     "output_type": "execute_result"
    }
   ],
   "source": [
    "# ranking by correlation CORR bombs on 10s of thousands of features;  found this Extra Trees picker gem, though it was \n",
    "#     kinda eating a handful of broken glass to make it work (love those index and column params datatypes !!!   ha!)\n",
    "model_cvec_feature_picker = ExtraTreesClassifier()\n",
    "model_cvec_feature_picker.fit(df_X_train_cvec, y_train)\n",
    "model_cvec_feature_picker.feature_importances_\n",
    "feat_importances = pd.DataFrame(model_cvec_feature_picker.feature_importances_, index= df_X_train_cvec.columns)\n",
    "feat_importances.nlargest(25, columns= pd.RangeIndex(start=0, stop=1, step=1)     )"
   ]
  },
  {
   "cell_type": "code",
   "execution_count": 16,
   "metadata": {},
   "outputs": [],
   "source": [
    "# feat_importances.to_csv('../datasets/top25.csv')"
   ]
  },
  {
   "cell_type": "code",
   "execution_count": 17,
   "metadata": {},
   "outputs": [
    {
     "data": {
      "text/plain": [
       "(7500, 40919)"
      ]
     },
     "execution_count": 17,
     "metadata": {},
     "output_type": "execute_result"
    }
   ],
   "source": [
    "XX = pd.concat([df_X_train_combo_with_vader['says'],\n",
    "                df_X_train_combo_with_vader['police'],\n",
    "                df_X_train_combo_with_vader['arrested'],\n",
    "                df_X_train_combo_with_vader['nation'],\n",
    "                df_X_train_combo_with_vader['said what'],\n",
    "                df_X_train_combo_with_vader['of'],\n",
    "                df_X_train_combo_with_vader['new'],\n",
    "                df_X_train_combo_with_vader['know'],\n",
    "                df_X_train_combo_with_vader['this'],\n",
    "                df_X_train_combo_with_vader['him gay'],\n",
    "                df_X_train_combo_with_vader['to'],\n",
    "                df_X_train_combo_with_vader['2018'],\n",
    "                df_X_train_combo_with_vader['china'],\n",
    "                df_X_train_combo_with_vader['all'],\n",
    "                df_X_train_combo_with_vader['florida'],\n",
    "                df_X_train_combo_with_vader['is'],\n",
    "                df_X_train_combo_with_vader['report'],\n",
    "                df_X_train_combo_with_vader['adopted'],\n",
    "                df_X_train_combo_with_vader['ukraine'],\n",
    "                df_X_train_combo_with_vader['woman'],\n",
    "                df_X_train_combo_with_vader['has'],\n",
    "                df_X_train_combo_with_vader['in'],\n",
    "                df_X_train_combo_with_vader['charged'],\n",
    "                df_X_train_combo_with_vader['said'],\n",
    "                df_X_train_combo_with_vader['buggy'],\n",
    "                df_X_train_combo_with_vader['pos'],            # above: most important words;  below: the sentiments\n",
    "                df_X_train_combo_with_vader['neu'],\n",
    "                df_X_train_combo_with_vader['neg'],\n",
    "                df_X_train_combo_with_vader['compound_y']      # subreddit titles had the word 'compound' in them, so \n",
    "               ], axis= 1)                                     #    then VADER's 'compound' survives as this instead\n",
    "features = list(XX.columns)\n",
    "poly = PolynomialFeatures(degree= 4, include_bias= False)\n",
    "XX_poly = poly.fit_transform(XX)\n",
    "df_XX_poly = pd.DataFrame(XX_poly, columns= poly.get_feature_names(features))\n",
    "df_XX_poly.shape"
   ]
  },
  {
   "cell_type": "code",
   "execution_count": 18,
   "metadata": {},
   "outputs": [],
   "source": [
    "df_X_train_cvec_vader_poly = pd.concat([df_X_train_combo_with_vader, df_XX_poly], axis= 1)"
   ]
  },
  {
   "cell_type": "code",
   "execution_count": 19,
   "metadata": {},
   "outputs": [
    {
     "data": {
      "text/plain": [
       "(2500, 40919)"
      ]
     },
     "execution_count": 19,
     "metadata": {},
     "output_type": "execute_result"
    }
   ],
   "source": [
    "xx = pd.concat([df_X_test_combo_with_vader['says'],\n",
    "                df_X_test_combo_with_vader['police'],\n",
    "                df_X_test_combo_with_vader['arrested'],\n",
    "                df_X_test_combo_with_vader['nation'],\n",
    "                df_X_test_combo_with_vader['said what'],\n",
    "                df_X_test_combo_with_vader['of'],\n",
    "                df_X_test_combo_with_vader['new'],\n",
    "                df_X_test_combo_with_vader['know'],\n",
    "                df_X_test_combo_with_vader['this'],\n",
    "                df_X_test_combo_with_vader['him gay'],\n",
    "                df_X_test_combo_with_vader['to'],\n",
    "                df_X_test_combo_with_vader['2018'],\n",
    "                df_X_test_combo_with_vader['china'],\n",
    "                df_X_test_combo_with_vader['all'],\n",
    "                df_X_test_combo_with_vader['florida'],\n",
    "                df_X_test_combo_with_vader['is'],\n",
    "                df_X_test_combo_with_vader['report'],\n",
    "                df_X_test_combo_with_vader['adopted'],\n",
    "                df_X_test_combo_with_vader['ukraine'],\n",
    "                df_X_test_combo_with_vader['woman'],\n",
    "                df_X_test_combo_with_vader['has'],\n",
    "                df_X_test_combo_with_vader['in'],\n",
    "                df_X_test_combo_with_vader['charged'],\n",
    "                df_X_test_combo_with_vader['said'],\n",
    "                df_X_test_combo_with_vader['buggy'],\n",
    "                df_X_test_combo_with_vader['pos'],\n",
    "                df_X_test_combo_with_vader['neu'],\n",
    "                df_X_test_combo_with_vader['neg'],\n",
    "                df_X_test_combo_with_vader['compound_y']      \n",
    "               ], axis= 1)               \n",
    "features = list(xx.columns)\n",
    "poly = PolynomialFeatures(degree= 4, include_bias= False)\n",
    "xx_poly = poly.fit_transform(xx)\n",
    "df_xx_poly = pd.DataFrame(xx_poly, columns= poly.get_feature_names(features))\n",
    "df_xx_poly.shape"
   ]
  },
  {
   "cell_type": "code",
   "execution_count": 20,
   "metadata": {},
   "outputs": [],
   "source": [
    "df_X_test_cvec_vader_poly = pd.concat([df_X_test_combo_with_vader, df_xx_poly], axis= 1)"
   ]
  },
  {
   "cell_type": "markdown",
   "metadata": {},
   "source": [
    "##### Dataframe prep is over;  dataframe has CV, SAI Vader, and feature engineering PolyFeatures (top 25 words plus Sentiment interacted)"
   ]
  },
  {
   "cell_type": "markdown",
   "metadata": {},
   "source": [
    "### Model time with Logistic Regression"
   ]
  },
  {
   "cell_type": "code",
   "execution_count": 21,
   "metadata": {},
   "outputs": [
    {
     "data": {
      "text/plain": [
       "LogisticRegression(C=1.0, class_weight=None, dual=False, fit_intercept=True,\n",
       "                   intercept_scaling=1, l1_ratio=None, max_iter=100,\n",
       "                   multi_class='warn', n_jobs=None, penalty='l2',\n",
       "                   random_state=None, solver='lbfgs', tol=0.0001, verbose=0,\n",
       "                   warm_start=False)"
      ]
     },
     "execution_count": 21,
     "metadata": {},
     "output_type": "execute_result"
    }
   ],
   "source": [
    "logreg = LogisticRegression(solver= 'lbfgs')\n",
    "logreg.fit(df_X_train_cvec_vader_poly, y_train)\n"
   ]
  },
  {
   "cell_type": "code",
   "execution_count": 22,
   "metadata": {},
   "outputs": [
    {
     "data": {
      "text/plain": [
       "0.9950666666666667"
      ]
     },
     "execution_count": 22,
     "metadata": {},
     "output_type": "execute_result"
    }
   ],
   "source": [
    "logreg.score(df_X_train_cvec_vader_poly, y_train)"
   ]
  },
  {
   "cell_type": "code",
   "execution_count": 23,
   "metadata": {},
   "outputs": [
    {
     "data": {
      "text/plain": [
       "0.8432"
      ]
     },
     "execution_count": 23,
     "metadata": {},
     "output_type": "execute_result"
    }
   ],
   "source": [
    "logreg.score(df_X_test_cvec_vader_poly, y_test)"
   ]
  },
  {
   "cell_type": "code",
   "execution_count": 24,
   "metadata": {},
   "outputs": [
    {
     "data": {
      "text/plain": [
       "0.8333333333333334"
      ]
     },
     "execution_count": 24,
     "metadata": {},
     "output_type": "execute_result"
    }
   ],
   "source": [
    "cross_val_score(logreg, df_X_train_cvec_vader_poly, y_train, cv= 3).mean()"
   ]
  },
  {
   "cell_type": "markdown",
   "metadata": {},
   "source": [
    "### Regularization with Lasso, Ridge, and Elasticnet \n"
   ]
  },
  {
   "cell_type": "markdown",
   "metadata": {},
   "source": [
    "#### Lasso first..."
   ]
  },
  {
   "cell_type": "code",
   "execution_count": 25,
   "metadata": {},
   "outputs": [
    {
     "data": {
      "text/plain": [
       "LogisticRegression(C=1.0, class_weight=None, dual=False, fit_intercept=True,\n",
       "                   intercept_scaling=1, l1_ratio=None, max_iter=100,\n",
       "                   multi_class='warn', n_jobs=None, penalty='l1',\n",
       "                   random_state=None, solver='saga', tol=0.0001, verbose=0,\n",
       "                   warm_start=False)"
      ]
     },
     "execution_count": 25,
     "metadata": {},
     "output_type": "execute_result"
    }
   ],
   "source": [
    "logreg_lasso = LogisticRegression(solver= 'saga', penalty= 'l1')\n",
    "logreg_lasso.fit(df_X_train_cvec_vader_poly, y_train)"
   ]
  },
  {
   "cell_type": "code",
   "execution_count": 26,
   "metadata": {},
   "outputs": [
    {
     "data": {
      "text/plain": [
       "0.7090666666666666"
      ]
     },
     "execution_count": 26,
     "metadata": {},
     "output_type": "execute_result"
    }
   ],
   "source": [
    "logreg_lasso.score(df_X_train_cvec_vader_poly, y_train)"
   ]
  },
  {
   "cell_type": "code",
   "execution_count": 27,
   "metadata": {},
   "outputs": [
    {
     "data": {
      "text/plain": [
       "0.6912"
      ]
     },
     "execution_count": 27,
     "metadata": {},
     "output_type": "execute_result"
    }
   ],
   "source": [
    "logreg_lasso.score(df_X_test_cvec_vader_poly, y_test)"
   ]
  },
  {
   "cell_type": "code",
   "execution_count": 28,
   "metadata": {},
   "outputs": [
    {
     "data": {
      "text/plain": [
       "0.6520197303695505"
      ]
     },
     "execution_count": 28,
     "metadata": {},
     "output_type": "execute_result"
    }
   ],
   "source": [
    "cross_val_score(logreg_lasso, df_X_test_cvec_vader_poly, y_test, cv= 3).mean()"
   ]
  },
  {
   "cell_type": "markdown",
   "metadata": {},
   "source": [
    "#### Ridge second..."
   ]
  },
  {
   "cell_type": "code",
   "execution_count": 29,
   "metadata": {},
   "outputs": [
    {
     "data": {
      "text/plain": [
       "LogisticRegression(C=1.0, class_weight=None, dual=False, fit_intercept=True,\n",
       "                   intercept_scaling=1, l1_ratio=None, max_iter=100,\n",
       "                   multi_class='warn', n_jobs=None, penalty='l2',\n",
       "                   random_state=None, solver='saga', tol=0.0001, verbose=0,\n",
       "                   warm_start=False)"
      ]
     },
     "execution_count": 29,
     "metadata": {},
     "output_type": "execute_result"
    }
   ],
   "source": [
    "logreg_ridge = LogisticRegression(solver= 'saga', penalty= 'l2')\n",
    "logreg_ridge.fit(df_X_train_cvec_vader_poly, y_train)"
   ]
  },
  {
   "cell_type": "code",
   "execution_count": 30,
   "metadata": {},
   "outputs": [
    {
     "data": {
      "text/plain": [
       "0.7262666666666666"
      ]
     },
     "execution_count": 30,
     "metadata": {},
     "output_type": "execute_result"
    }
   ],
   "source": [
    "logreg_ridge.score(df_X_train_cvec_vader_poly, y_train)"
   ]
  },
  {
   "cell_type": "code",
   "execution_count": 31,
   "metadata": {},
   "outputs": [
    {
     "data": {
      "text/plain": [
       "0.698"
      ]
     },
     "execution_count": 31,
     "metadata": {},
     "output_type": "execute_result"
    }
   ],
   "source": [
    "logreg_ridge.score(df_X_test_cvec_vader_poly, y_test)"
   ]
  },
  {
   "cell_type": "code",
   "execution_count": 32,
   "metadata": {},
   "outputs": [
    {
     "data": {
      "text/plain": [
       "0.6572184560044273"
      ]
     },
     "execution_count": 32,
     "metadata": {},
     "output_type": "execute_result"
    }
   ],
   "source": [
    "cross_val_score(logreg_ridge, df_X_test_cvec_vader_poly, y_test, cv= 3).mean()"
   ]
  },
  {
   "cell_type": "markdown",
   "metadata": {},
   "source": [
    "#### Elasticnet third..."
   ]
  },
  {
   "cell_type": "code",
   "execution_count": 33,
   "metadata": {},
   "outputs": [
    {
     "data": {
      "text/plain": [
       "LogisticRegression(C=1.0, class_weight=None, dual=False, fit_intercept=True,\n",
       "                   intercept_scaling=1, l1_ratio=0.5, max_iter=100,\n",
       "                   multi_class='warn', n_jobs=None, penalty='elasticnet',\n",
       "                   random_state=None, solver='saga', tol=0.0001, verbose=0,\n",
       "                   warm_start=False)"
      ]
     },
     "execution_count": 33,
     "metadata": {},
     "output_type": "execute_result"
    }
   ],
   "source": [
    "logreg_elasticnet = LogisticRegression(solver= 'saga', penalty= 'elasticnet', l1_ratio= 0.5)\n",
    "logreg_elasticnet.fit(df_X_train_cvec_vader_poly, y_train)"
   ]
  },
  {
   "cell_type": "code",
   "execution_count": 34,
   "metadata": {},
   "outputs": [
    {
     "data": {
      "text/plain": [
       "0.7161333333333333"
      ]
     },
     "execution_count": 34,
     "metadata": {},
     "output_type": "execute_result"
    }
   ],
   "source": [
    "logreg_elasticnet.score(df_X_train_cvec_vader_poly, y_train)"
   ]
  },
  {
   "cell_type": "code",
   "execution_count": 35,
   "metadata": {},
   "outputs": [
    {
     "data": {
      "text/plain": [
       "0.694"
      ]
     },
     "execution_count": 35,
     "metadata": {},
     "output_type": "execute_result"
    }
   ],
   "source": [
    "logreg_elasticnet.score(df_X_test_cvec_vader_poly, y_test)"
   ]
  },
  {
   "cell_type": "code",
   "execution_count": 36,
   "metadata": {},
   "outputs": [
    {
     "data": {
      "text/plain": [
       "0.6568187757486319"
      ]
     },
     "execution_count": 36,
     "metadata": {},
     "output_type": "execute_result"
    }
   ],
   "source": [
    "cross_val_score(logreg_elasticnet, df_X_test_cvec_vader_poly, y_test, cv= 3).mean()"
   ]
  },
  {
   "cell_type": "code",
   "execution_count": null,
   "metadata": {},
   "outputs": [],
   "source": []
  },
  {
   "cell_type": "code",
   "execution_count": null,
   "metadata": {},
   "outputs": [],
   "source": []
  }
 ],
 "metadata": {
  "kernelspec": {
   "display_name": "Python 3",
   "language": "python",
   "name": "python3"
  },
  "language_info": {
   "codemirror_mode": {
    "name": "ipython",
    "version": 3
   },
   "file_extension": ".py",
   "mimetype": "text/x-python",
   "name": "python",
   "nbconvert_exporter": "python",
   "pygments_lexer": "ipython3",
   "version": "3.7.3"
  }
 },
 "nbformat": 4,
 "nbformat_minor": 2
}
